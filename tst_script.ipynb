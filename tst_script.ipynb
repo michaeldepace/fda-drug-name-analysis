{
 "cells": [
  {
   "cell_type": "code",
   "execution_count": 5,
   "metadata": {},
   "outputs": [],
   "source": [
    "import pandas as pd\n",
    "\n",
    "df = pd.read_csv('./fda-drug-data/Products.txt', sep='\\t', on_bad_lines='skip')"
   ]
  },
  {
   "cell_type": "code",
   "execution_count": 14,
   "metadata": {},
   "outputs": [
    {
     "data": {
      "text/html": [
       "<div>\n",
       "<style scoped>\n",
       "    .dataframe tbody tr th:only-of-type {\n",
       "        vertical-align: middle;\n",
       "    }\n",
       "\n",
       "    .dataframe tbody tr th {\n",
       "        vertical-align: top;\n",
       "    }\n",
       "\n",
       "    .dataframe thead th {\n",
       "        text-align: right;\n",
       "    }\n",
       "</style>\n",
       "<table border=\"1\" class=\"dataframe\">\n",
       "  <thead>\n",
       "    <tr style=\"text-align: right;\">\n",
       "      <th></th>\n",
       "      <th>ApplNo</th>\n",
       "      <th>ProductNo</th>\n",
       "      <th>Form</th>\n",
       "      <th>Strength</th>\n",
       "      <th>ReferenceDrug</th>\n",
       "      <th>DrugName</th>\n",
       "      <th>ActiveIngredient</th>\n",
       "      <th>ReferenceStandard</th>\n",
       "    </tr>\n",
       "  </thead>\n",
       "  <tbody>\n",
       "    <tr>\n",
       "      <th>44725</th>\n",
       "      <td>761235</td>\n",
       "      <td>1</td>\n",
       "      <td>INJECTABLE; INTRAVITREAL</td>\n",
       "      <td>120MG/ML</td>\n",
       "      <td>0</td>\n",
       "      <td>VABYSMO</td>\n",
       "      <td>FARICIMAB-SVOA</td>\n",
       "      <td>0.0</td>\n",
       "    </tr>\n",
       "    <tr>\n",
       "      <th>44726</th>\n",
       "      <td>761244</td>\n",
       "      <td>1</td>\n",
       "      <td>INJECTABLE;INTRAVENOUS</td>\n",
       "      <td>900MG</td>\n",
       "      <td>0</td>\n",
       "      <td>SPEVIGO</td>\n",
       "      <td>SPESOLIMAB-SBZO</td>\n",
       "      <td>0.0</td>\n",
       "    </tr>\n",
       "    <tr>\n",
       "      <th>44727</th>\n",
       "      <td>761261</td>\n",
       "      <td>1</td>\n",
       "      <td>INJECTABLE;INJECTION</td>\n",
       "      <td>20MG</td>\n",
       "      <td>0</td>\n",
       "      <td>XENPOZYME</td>\n",
       "      <td>OLIPUDASE ALFA-RPCP</td>\n",
       "      <td>0.0</td>\n",
       "    </tr>\n",
       "    <tr>\n",
       "      <th>44728</th>\n",
       "      <td>761262</td>\n",
       "      <td>1</td>\n",
       "      <td>INJECTABLE;INTRAVENOUS</td>\n",
       "      <td>600MG/VIAL</td>\n",
       "      <td>0</td>\n",
       "      <td>SKYRIZI</td>\n",
       "      <td>RISANKIZUMAB-RZAA</td>\n",
       "      <td>0.0</td>\n",
       "    </tr>\n",
       "    <tr>\n",
       "      <th>44729</th>\n",
       "      <td>761268</td>\n",
       "      <td>1</td>\n",
       "      <td>INJECTABLE;INJECTION</td>\n",
       "      <td>100MG/4ML(25MG/ML)</td>\n",
       "      <td>0</td>\n",
       "      <td>VEGZELMA</td>\n",
       "      <td>BEVACIZUMAB-ADCD</td>\n",
       "      <td>0.0</td>\n",
       "    </tr>\n",
       "  </tbody>\n",
       "</table>\n",
       "</div>"
      ],
      "text/plain": [
       "       ApplNo  ProductNo                      Form            Strength  \\\n",
       "44725  761235          1  INJECTABLE; INTRAVITREAL            120MG/ML   \n",
       "44726  761244          1    INJECTABLE;INTRAVENOUS               900MG   \n",
       "44727  761261          1      INJECTABLE;INJECTION                20MG   \n",
       "44728  761262          1    INJECTABLE;INTRAVENOUS          600MG/VIAL   \n",
       "44729  761268          1      INJECTABLE;INJECTION  100MG/4ML(25MG/ML)   \n",
       "\n",
       "       ReferenceDrug   DrugName     ActiveIngredient  ReferenceStandard  \n",
       "44725              0    VABYSMO       FARICIMAB-SVOA                0.0  \n",
       "44726              0    SPEVIGO      SPESOLIMAB-SBZO                0.0  \n",
       "44727              0  XENPOZYME  OLIPUDASE ALFA-RPCP                0.0  \n",
       "44728              0    SKYRIZI    RISANKIZUMAB-RZAA                0.0  \n",
       "44729              0   VEGZELMA     BEVACIZUMAB-ADCD                0.0  "
      ]
     },
     "execution_count": 14,
     "metadata": {},
     "output_type": "execute_result"
    }
   ],
   "source": [
    "df.head()\n",
    "\n",
    "drug_names_df = pd.DataFrame(df['DrugName'].unique())\n",
    "drug_names_df\n",
    "\n",
    "df.tail()"
   ]
  },
  {
   "cell_type": "markdown",
   "metadata": {},
   "source": [
    "## Scrabble Letter Values\n",
    "\n",
    "(1 point)-A, E, I, O, U, L, N, S, T, R\n",
    "(2 points)-D, G\n",
    "(3 points)-B, C, M, P\n",
    "(4 points)-F, H, V, W, Y\n",
    "(5 points)-K\n",
    "(8 points)- J, X\n",
    "(10 points)-Q, Z\n",
    "\n",
    "https://scrabble.hasbro.com/en-us/faq"
   ]
  },
  {
   "cell_type": "markdown",
   "metadata": {},
   "source": []
  },
  {
   "cell_type": "code",
   "execution_count": 46,
   "metadata": {},
   "outputs": [
    {
     "data": {
      "text/plain": [
       "4"
      ]
     },
     "execution_count": 46,
     "metadata": {},
     "output_type": "execute_result"
    }
   ],
   "source": [
    "testCase = 'michael'\n",
    "\n",
    "scores = {\n",
    "    1 : ['A', 'E', 'I', 'O', 'U', 'L', 'N', 'S', 'T', 'R'],\n",
    "    2 : ['D', 'G'],\n",
    "    3 : ['B', 'C', 'M', 'P'],\n",
    "    4 : ['F', 'H', 'V', 'W', 'Y'],\n",
    "    5 : ['K'],\n",
    "    8 : ['J', 'X'],\n",
    "    10 : ['Q', 'Z']\n",
    "}\n",
    "\n",
    "def scoreName(name=''):\n",
    "    score = 0\n",
    "    name_letters = list(name.upper())\n",
    "    for ltr in name_letters:\n",
    "        for ltr_score, ltrs in scores.items():\n",
    "            #print(ltr, ltr_score, ltrs)\n",
    "            if ltr in ltrs:\n",
    "               score += ltr_score\n",
    "    return score\n",
    "\n",
    "scoreName(testCase)\n",
    "\n"
   ]
  },
  {
   "cell_type": "code",
   "execution_count": null,
   "metadata": {},
   "outputs": [],
   "source": []
  }
 ],
 "metadata": {
  "kernelspec": {
   "display_name": "Python 3.9.7 ('base')",
   "language": "python",
   "name": "python3"
  },
  "language_info": {
   "codemirror_mode": {
    "name": "ipython",
    "version": 3
   },
   "file_extension": ".py",
   "mimetype": "text/x-python",
   "name": "python",
   "nbconvert_exporter": "python",
   "pygments_lexer": "ipython3",
   "version": "3.9.7"
  },
  "orig_nbformat": 4,
  "vscode": {
   "interpreter": {
    "hash": "e4cce46d6be9934fbd27f9ca0432556941ea5bdf741d4f4d64c6cd7f8dfa8fba"
   }
  }
 },
 "nbformat": 4,
 "nbformat_minor": 2
}
